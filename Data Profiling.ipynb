{
 "cells": [
  {
   "cell_type": "markdown",
   "metadata": {},
   "source": [
    "# Data Profiling\n",
    "Pada bagian sebelumnya, aku sudah mempelajari mengenai exploratory data analysis, dimana Exploratory Data Analysis (EDA) adalah menggunakan pendekatan statistik yang bertujuan untuk menemukan dan meringkas sebuah dataset, mengetahui struktur dan hubungan antar variabel dalam dataset. EDA merupakan proses pre-analysis baik untuk descriptive analysis maupun predictive analysis.\n",
    "\n",
    "Dalam bab ini, aku akan fokus pada satu aspek EDA, yaitu: **Data Profiling!**\n",
    "\n",
    "Data profiling adalah kegiatan merangkum dataset menggunakan statistik deskriptif. Tujuan dari pembuatan data profiling adalah untuk memiliki pemahaman yang kuat tentang data sehingga dapat mulai menyusun framework analisis  dan memvisualisasikan data.\n",
    "\n",
    "![](gambar/profiling.png)"
   ]
  },
  {
   "cell_type": "markdown",
   "metadata": {},
   "source": [
    "## Importing Data\n",
    "\n",
    "Sebagai langkah pertama yang harus dilakukan adalah inisialisasi Library dan mengimport dataset tersebut ke dalam Python menggunakan library Pandas dan diassign sebagai retail_raw."
   ]
  },
  {
   "cell_type": "code",
   "execution_count": 1,
   "metadata": {},
   "outputs": [
    {
     "data": {
      "text/html": [
       "<div>\n",
       "<style scoped>\n",
       "    .dataframe tbody tr th:only-of-type {\n",
       "        vertical-align: middle;\n",
       "    }\n",
       "\n",
       "    .dataframe tbody tr th {\n",
       "        vertical-align: top;\n",
       "    }\n",
       "\n",
       "    .dataframe thead th {\n",
       "        text-align: right;\n",
       "    }\n",
       "</style>\n",
       "<table border=\"1\" class=\"dataframe\">\n",
       "  <thead>\n",
       "    <tr style=\"text-align: right;\">\n",
       "      <th></th>\n",
       "      <th>order_id</th>\n",
       "      <th>order_date</th>\n",
       "      <th>customer_id</th>\n",
       "      <th>city</th>\n",
       "      <th>province</th>\n",
       "      <th>product_id</th>\n",
       "      <th>brand</th>\n",
       "      <th>quantity</th>\n",
       "      <th>item_price</th>\n",
       "    </tr>\n",
       "  </thead>\n",
       "  <tbody>\n",
       "    <tr>\n",
       "      <td>0</td>\n",
       "      <td>1703458</td>\n",
       "      <td>17/10/2019</td>\n",
       "      <td>14004</td>\n",
       "      <td>Jakarta Selatan</td>\n",
       "      <td>DKI Jakarta</td>\n",
       "      <td>P1910</td>\n",
       "      <td>BRAND_J</td>\n",
       "      <td>10.0</td>\n",
       "      <td>740000.0</td>\n",
       "    </tr>\n",
       "    <tr>\n",
       "      <td>1</td>\n",
       "      <td>1706815</td>\n",
       "      <td>24/10/2019</td>\n",
       "      <td>17220</td>\n",
       "      <td>Jakarta Selatan</td>\n",
       "      <td>DKI Jakarta</td>\n",
       "      <td>P2934</td>\n",
       "      <td>BRAND_R</td>\n",
       "      <td>2.0</td>\n",
       "      <td>604000.0</td>\n",
       "    </tr>\n",
       "    <tr>\n",
       "      <td>2</td>\n",
       "      <td>1710718</td>\n",
       "      <td>03/11/2019</td>\n",
       "      <td>16518</td>\n",
       "      <td>Jakarta Utara</td>\n",
       "      <td>DKI Jakarta</td>\n",
       "      <td>P0908</td>\n",
       "      <td>BRAND_C</td>\n",
       "      <td>8.0</td>\n",
       "      <td>1045000.0</td>\n",
       "    </tr>\n",
       "    <tr>\n",
       "      <td>3</td>\n",
       "      <td>1683592</td>\n",
       "      <td>19/08/2019</td>\n",
       "      <td>16364</td>\n",
       "      <td>Jakarta Barat</td>\n",
       "      <td>DKI Jakarta</td>\n",
       "      <td>P0128</td>\n",
       "      <td>BRAND_A</td>\n",
       "      <td>4.0</td>\n",
       "      <td>205000.0</td>\n",
       "    </tr>\n",
       "    <tr>\n",
       "      <td>4</td>\n",
       "      <td>1702573</td>\n",
       "      <td>16/10/2019</td>\n",
       "      <td>15696</td>\n",
       "      <td>Jakarta Timur</td>\n",
       "      <td>DKI Jakarta</td>\n",
       "      <td>P2968</td>\n",
       "      <td>BRAND_R</td>\n",
       "      <td>2.0</td>\n",
       "      <td>NaN</td>\n",
       "    </tr>\n",
       "  </tbody>\n",
       "</table>\n",
       "</div>"
      ],
      "text/plain": [
       "   order_id  order_date  customer_id             city     province product_id  \\\n",
       "0   1703458  17/10/2019        14004  Jakarta Selatan  DKI Jakarta      P1910   \n",
       "1   1706815  24/10/2019        17220  Jakarta Selatan  DKI Jakarta      P2934   \n",
       "2   1710718  03/11/2019        16518    Jakarta Utara  DKI Jakarta      P0908   \n",
       "3   1683592  19/08/2019        16364    Jakarta Barat  DKI Jakarta      P0128   \n",
       "4   1702573  16/10/2019        15696    Jakarta Timur  DKI Jakarta      P2968   \n",
       "\n",
       "     brand  quantity  item_price  \n",
       "0  BRAND_J      10.0    740000.0  \n",
       "1  BRAND_R       2.0    604000.0  \n",
       "2  BRAND_C       8.0   1045000.0  \n",
       "3  BRAND_A       4.0    205000.0  \n",
       "4  BRAND_R       2.0         NaN  "
      ]
     },
     "execution_count": 1,
     "metadata": {},
     "output_type": "execute_result"
    }
   ],
   "source": [
    "import pandas as pd\n",
    "import numpy as np\n",
    "import io\n",
    "import pandas_profiling\n",
    "retail_raw = pd.read_csv('data/retail_raw_reduced_data_quality.csv')\n",
    "retail_raw.head()"
   ]
  },
  {
   "cell_type": "code",
   "execution_count": 2,
   "metadata": {},
   "outputs": [
    {
     "data": {
      "text/plain": [
       "(5000, 9)"
      ]
     },
     "execution_count": 2,
     "metadata": {},
     "output_type": "execute_result"
    }
   ],
   "source": [
    "retail_raw.shape"
   ]
  },
  {
   "cell_type": "markdown",
   "metadata": {},
   "source": [
    "## Inspeksi tipe data\n",
    "\n",
    "Dengan library Pandas, dapat menjalankan fungsi .dtypes untuk melihat data untuk setiap kolom termasuk tipe datanya."
   ]
  },
  {
   "cell_type": "code",
   "execution_count": 3,
   "metadata": {},
   "outputs": [
    {
     "name": "stdout",
     "output_type": "stream",
     "text": [
      "order_id         int64\n",
      "order_date      object\n",
      "customer_id      int64\n",
      "city            object\n",
      "province        object\n",
      "product_id      object\n",
      "brand           object\n",
      "quantity       float64\n",
      "item_price     float64\n",
      "dtype: object\n"
     ]
    }
   ],
   "source": [
    "#cetak tipe data di setiap kolom retail_raw\n",
    "print(retail_raw.dtypes)"
   ]
  },
  {
   "cell_type": "markdown",
   "metadata": {},
   "source": [
    "## Descriptive Statistics \n",
    "\n",
    "### Length\n",
    "Fungsi len menghitung jumlah pengamatan dalam suatu series / column. Fungsi len akan menghitung semua pengamatan, terlepas dari apakah ada null-value atau tidak (include missing value)."
   ]
  },
  {
   "cell_type": "markdown",
   "metadata": {},
   "source": [
    "#### Tugas Praktek:\n",
    "Setelah membaca modul referensi Kroma, aku coba memulai  analisis dengan menginspeksi length dari kolom product_id dari dataframe retail_raw!"
   ]
  },
  {
   "cell_type": "code",
   "execution_count": 4,
   "metadata": {},
   "outputs": [
    {
     "name": "stdout",
     "output_type": "stream",
     "text": [
      "Length kolom city: 5000\n",
      "Length kolom product_id: 5000\n"
     ]
    }
   ],
   "source": [
    "# Kolom city\n",
    "length_city = len(retail_raw['city'])\n",
    "print('Length kolom city:',length_city)\n",
    "\n",
    "# Tugas Praktek: Kolom product_id\n",
    "length_product_id = len(retail_raw['product_id'])\n",
    "print('Length kolom product_id:',length_product_id)"
   ]
  },
  {
   "cell_type": "markdown",
   "metadata": {},
   "source": [
    "### Count\n",
    "Fungsi count menghitung jumlah pengamatan non-NA / non-null dalam suatu series / column. Fungsi len akan hanya menghitung elemen dari kolom yang mempunyai nilai (exclude missing value). simplenya hanya menghitung yang memiliki nilai"
   ]
  },
  {
   "cell_type": "markdown",
   "metadata": {},
   "source": [
    "#### Tugas Praktek:\n",
    "Setelah yang tadi cukup lancar, aku berniat mengetahui jumlah non-null value dari kolom product_id dari dataframe retail_raw agar hasil analisisnya lebih lengkap."
   ]
  },
  {
   "cell_type": "code",
   "execution_count": 5,
   "metadata": {},
   "outputs": [
    {
     "name": "stdout",
     "output_type": "stream",
     "text": [
      "Count kolom count_city: 4984\n",
      "Count kolom product_id: 4989\n"
     ]
    }
   ],
   "source": [
    "# Count kolom city\n",
    "count_city = retail_raw['city'].count()\n",
    "print('Count kolom count_city:',count_city)\n",
    "\n",
    "# Tugas praktek: count kolom product_id\n",
    "count_product_id  = retail_raw['product_id'].count()\n",
    "print('Count kolom product_id:',count_product_id)"
   ]
  },
  {
   "cell_type": "markdown",
   "metadata": {},
   "source": [
    "### Missing Value\n",
    "Dengan Length dan Count, sekarang dapat menghitung jumlah missing-value. Jumlah nilai yang hilang adalah perbedaan antara Length dan Count."
   ]
  },
  {
   "cell_type": "markdown",
   "metadata": {},
   "source": [
    "#### Tugas Praktek:\n",
    "Yes! Aku berhasil mendapatkan length dan count dari product_id, sekarang  aku perlu mengetahui jumlah missing-value dari kolom tersebut. Ini artiya aku perlu membuat syntaks untuk menghitung persentase missing-value dari product_id. Kerjakanlah di code editor pada baris 7 s/d 11."
   ]
  },
  {
   "cell_type": "code",
   "execution_count": 6,
   "metadata": {},
   "outputs": [
    {
     "name": "stdout",
     "output_type": "stream",
     "text": [
      "Persentase missing value kolom city: 0.3%\n",
      "Persentase missing value kolom product_id: 0.2%\n"
     ]
    }
   ],
   "source": [
    "# Missing value pada kolom city\n",
    "number_of_missing_values_city = length_city - count_city\n",
    "float_of_missing_values_city = float(number_of_missing_values_city/length_city)\n",
    "pct_of_missing_values_city = '{0:.1f}%'.format(float_of_missing_values_city*100)\n",
    "print('Persentase missing value kolom city:',pct_of_missing_values_city)\n",
    "\n",
    "# Tugas praktek: Missing value pada kolom product_id\n",
    "number_of_missing_values_product_id = length_product_id- count_product_id\n",
    "float_of_missing_values_product_id = float(number_of_missing_values_product_id/length_product_id)\n",
    "pct_of_missing_values_product_id = '{0:.1f}%'.format(float_of_missing_values_product_id * 100)\n",
    "print('Persentase missing value kolom product_id:', pct_of_missing_values_product_id)"
   ]
  },
  {
   "cell_type": "markdown",
   "metadata": {},
   "source": [
    "### Maximum dan Minimum\n",
    "Fungsi max dan min digunakan untuk mengetahui element terbesar dan terkecil dari suatu kolom di dataframe.\n",
    "\n",
    "### Mean, Medium, Modus dan Standard Deviasi\n",
    "Fungsi mean, medium, modus dan standard deviasi digunakan untuk mengetahui pemusatan data dan persebarannya."
   ]
  },
  {
   "cell_type": "markdown",
   "metadata": {},
   "source": [
    "#### Tugas praktek:\n",
    "Buatlah statistics deskriptif untuk data item_price dari dataframe retail_raw! Berupa max, min, mean, median, dan std!"
   ]
  },
  {
   "cell_type": "code",
   "execution_count": 7,
   "metadata": {},
   "outputs": [
    {
     "name": "stdout",
     "output_type": "stream",
     "text": [
      "Kolom quantity\n",
      "Minimum value:  1.0\n",
      "Maximum value:  720.0\n",
      "Mean value:  11.423987164059366\n",
      "Mode value:  0    1.0\n",
      "dtype: float64\n",
      "Median value:  5.0\n",
      "Standard Deviation value:  29.442025010811317\n",
      "\n",
      "Kolom item_price\n",
      "Minimum value:  26000.0\n",
      "Maximum value:  29762000.0\n",
      "Mean value:  933742.7311008623\n",
      "Median value:  604000.0\n",
      "Standard Deviation value:  1030829.8104242863\n"
     ]
    }
   ],
   "source": [
    "# Deskriptif statistics kolom quantity\n",
    "print('Kolom quantity')\n",
    "print('Minimum value: ', retail_raw['quantity'].min())\n",
    "print('Maximum value: ', retail_raw['quantity'].max())\n",
    "print('Mean value: ', retail_raw['quantity'].mean())\n",
    "print('Mode value: ', retail_raw['quantity'].mode())\n",
    "print('Median value: ', retail_raw['quantity'].median())\n",
    "print('Standard Deviation value: ', retail_raw['quantity'].std())\n",
    "\n",
    "# Tugas praktek: Deskriptif statistics kolom item_price\n",
    "print('')\n",
    "print('Kolom item_price')\n",
    "print('Minimum value: ', retail_raw['item_price'].min())\n",
    "print('Maximum value: ', retail_raw['item_price'].max())\n",
    "print('Mean value: ', retail_raw['item_price'].mean())\n",
    "print('Median value: ', retail_raw['item_price'].median())\n",
    "print('Standard Deviation value: ', retail_raw['item_price'].std())"
   ]
  },
  {
   "cell_type": "markdown",
   "metadata": {},
   "source": [
    "### Quantile Statistics\n",
    "Quantiles adalah titik potong yang membagi distribusi dalam ukuran yang sama. Jika akan membagi distribusi menjadi empat grup yang sama, kuantil yang dibuat dinamai quartile. Jika dibagi kedalam 10 sepuluh group yang sama dinamakan percentile. Dalam kasus di bawah ini, ingin membagi distribusi menjadi empat grup atau quartile."
   ]
  },
  {
   "cell_type": "markdown",
   "metadata": {},
   "source": [
    "#### Tugas Praktek:\n",
    "Baiklah, sekarang saatnya lanjut untuk membuat distribusi quartile dari item_price dari dataframe retail_raw. Kalau ini sih seharusnya mudah, aku mulai menyusun kodenya di code editor."
   ]
  },
  {
   "cell_type": "code",
   "execution_count": 8,
   "metadata": {},
   "outputs": [
    {
     "name": "stdout",
     "output_type": "stream",
     "text": [
      "Kolom quantity:\n",
      "0.25     2.0\n",
      "0.50     5.0\n",
      "0.75    12.0\n",
      "Name: quantity, dtype: float64\n",
      "\n",
      "Kolom item_price:\n",
      "0.25     450000.0\n",
      "0.50     604000.0\n",
      "0.75    1045000.0\n",
      "Name: item_price, dtype: float64\n"
     ]
    }
   ],
   "source": [
    "# Quantile statistics kolom quantity\n",
    "print('Kolom quantity:')\n",
    "print(retail_raw['quantity'].quantile([0.25, 0.5, 0.75]))\n",
    "\n",
    "# Tugas praktek: Quantile statistics kolom item_price\n",
    "print('')\n",
    "print('Kolom item_price:')\n",
    "print(retail_raw['item_price'].quantile([0.25, 0.5, 0.75]))"
   ]
  },
  {
   "cell_type": "markdown",
   "metadata": {},
   "source": [
    "### Correlation\n",
    "Korelasi adalah cara yang tepat untuk menemukan hubungan antara variabel numerik. Koefisien korelasi berkisar antara -1 hingga 1. Korelasi 1 adalah korelasi positif total, korelasi -1 adalah korelasi negatif total dan korelasi 0 adalah korelasi non-linear.\n"
   ]
  },
  {
   "cell_type": "markdown",
   "metadata": {},
   "source": [
    "#### Tugas Praktek:\n",
    "“Hmmm, korelasi antara quantity dan item_price apa ya?” batinku. Aku perlu tahu untuk melengkapi syntaks. Aku coba cari di modul yang Kroma berikan tadi deh. Aku mengetikkan kode yang kupelajari sebelumnya di code editor."
   ]
  },
  {
   "cell_type": "code",
   "execution_count": 9,
   "metadata": {},
   "outputs": [
    {
     "name": "stdout",
     "output_type": "stream",
     "text": [
      "Korelasi quantity dengan item_price\n",
      "            quantity  item_price\n",
      "quantity    1.000000   -0.133936\n",
      "item_price -0.133936    1.000000\n"
     ]
    }
   ],
   "source": [
    "print('Korelasi quantity dengan item_price')\n",
    "print(retail_raw[['quantity', 'item_price']].corr())"
   ]
  },
  {
   "attachments": {
    "image.png": {
     "image/png": "[encoded data removed]"
    }
   },
   "cell_type": "markdown",
   "metadata": {},
   "source": [
    "## Penggunaan Profiling Libraries\n",
    "Seperti yang terlihat di atas, mengumpulkan statistik deskriptif dapat menjadi proses yang panjang. Pandas Profiling library memiliki function yang dapat membuat profiling data secara otomatis.\n",
    "Untuk dapat menggunakannya, cukup dengan memanggil library:\n",
    " ![image.png](attachment:image.png)"
   ]
  },
  {
   "attachments": {
    "image.png": {
     "image/png": "[encoded data removed]"
    }
   },
   "cell_type": "markdown",
   "metadata": {},
   "source": [
    "Syntax:\n",
    " ![image.png](attachment:image.png)"
   ]
  },
  {
   "attachments": {
    "image.png": {
     "image/png": "[encoded data removed]"
    }
   },
   "cell_type": "markdown",
   "metadata": {},
   "source": [
    "Contoh penggunaan untuk dataset retail_raw:\n",
    "![image.png](attachment:image.png)\n",
    " \n",
    "Mengingat output yang ditampilkan kaya akan penggunaan javascript, maka silakan klik tautan berikut ini untuk dibuka di tab baru browser kamu:\n",
    "__link__ProfileReport_retail_raw___.html\n",
    "untuk melihat profiling report dari data frame retail_raw yang telah DQLab buatkan.\n",
    "Akan dapat memahami proses profiling data yang menerapkan EDA (exploratory data analysis) dari report yang di-generate menggunakan library pandas_profiling melalui method ProfileReport.\n"
   ]
  },
  {
   "cell_type": "markdown",
   "metadata": {},
   "source": [
    "## Data Cleansing\n",
    "Data Cleansing berarti proses mengidentifikasi bagian data yang salah, tidak lengkap, tidak akurat, tidak relevan atau hilang dan kemudian memodifikasi, mengganti atau menghapusnya sesuai dengan kebutuhan. Data Cleansing dianggap sebagai elemen dasar dari Data Science. Pada bagian ini, akan membahas data cleansing dari treatment terhadap missing data, treatment outliers, sampai deduplikasi data."
   ]
  },
  {
   "attachments": {
    "image.png": {
     "image/png": "[encoded data removed]"
    }
   },
   "cell_type": "markdown",
   "metadata": {},
   "source": [
    "## Missing Data\n",
    "Dataset yang ditemui di real-world biasanya akan memiliki banyak missing value. Kemampuan untuk treatment missing value sangat penting karena jika membiarkan missing value itu dapat memengaruhi analisis dan machine learning model. Sehingga jika menemukan nilai yang hilang dalam dataset, harus melakukan treatment sedemikian rupa. Cara check kolom yang mempunyai missing value:\n",
    "![image.png](attachment:image.png)\n",
    "\n",
    "Cara treatment terhadap missing-value antara lain:\n",
    "1.\tLeave as it is (dibiarkan)\n",
    "2.\tFilling the missing value (imputasi)\n",
    "3.\tDrop them (hapus row yang mengandung missing value)\n"
   ]
  },
  {
   "attachments": {
    "image.png": {
     "image/png": "[encoded data removed]"
    }
   },
   "cell_type": "markdown",
   "metadata": {},
   "source": [
    "### *Imputasi*\n",
    "merupakan suatu metode treatment terhadap missing value dengan mengisinya menggunakan teknik tertentu. Bisa menggunakan mean, modus ataupun menggunakan predictive modelling. Pada modul ini akan membahas mengenai pemanfaatan function **fillna** dari Pandas untuk imputasi ini, yaitu\n",
    " ![image.png](attachment:image.png)\n",
    " \n",
    "**.function()** yang dimaksud pada syntax di atas adalah penggunaa fungsi .mean() atau .mode(). Penggunaan fungsi .mean() atau .mode() ini bergantung pada kondisi yang mengharuskan menggunakan nilai rata - rata atau modus dari kolom yang akan diimputasi, seperti\n",
    "**nama_dataframe['nama_kolom'].fillna(nama_dataframe.nama_kolom.mean())**\n",
    "\n",
    "atau\n",
    "\n",
    "**nama_dataframe['nama_kolom'].fillna(nama_dataframe.nama_kolom.modus())**\n",
    "\n"
   ]
  },
  {
   "attachments": {
    "image.png": {
     "image/png": "[encoded data removed]"
    }
   },
   "cell_type": "markdown",
   "metadata": {},
   "source": [
    "### *Drop row* \n",
    "yang mengandung missing value. Dapat menggunakan function dropna dari Pandas.\n",
    " ![image.png](attachment:image.png)\n",
    "Untuk menangani missing data pada retail_raw, \n",
    "•\tCeklah jika terdapat missing value pada variabel dataframe, dan kemudian cetak ke console\n",
    "•\tImputasi missing value pada kolom quantity dengan menggunaan nilai rataan (mean), dan kemudian cetak ke console\n",
    "•\tDrop-lah missing value pada kolom quantity, dan kemudian cetak ke console\n"
   ]
  },
  {
   "cell_type": "code",
   "execution_count": 10,
   "metadata": {},
   "outputs": [
    {
     "name": "stdout",
     "output_type": "stream",
     "text": [
      "Check kolom yang memiliki missing data:\n",
      "order_id       False\n",
      "order_date     False\n",
      "customer_id    False\n",
      "city            True\n",
      "province        True\n",
      "product_id      True\n",
      "brand          False\n",
      "quantity        True\n",
      "item_price      True\n",
      "dtype: bool\n",
      "\n",
      "Filling the missing value (imputasi):\n",
      "0       10.0\n",
      "1        2.0\n",
      "2        8.0\n",
      "3        4.0\n",
      "4        2.0\n",
      "        ... \n",
      "4995     2.0\n",
      "4996     3.0\n",
      "4997     4.0\n",
      "4998     8.0\n",
      "4999     1.0\n",
      "Name: quantity, Length: 5000, dtype: float64\n",
      "\n",
      "Drop missing value:\n",
      "0       10.0\n",
      "1        2.0\n",
      "2        8.0\n",
      "3        4.0\n",
      "4        2.0\n",
      "        ... \n",
      "4995     2.0\n",
      "4996     3.0\n",
      "4997     4.0\n",
      "4998     8.0\n",
      "4999     1.0\n",
      "Name: quantity, Length: 4986, dtype: float64\n"
     ]
    }
   ],
   "source": [
    "# Check kolom yang memiliki missing data\n",
    "print('Check kolom yang memiliki missing data:')\n",
    "print(retail_raw.isnull().any())\n",
    "\n",
    "# Filling the missing value (imputasi)\n",
    "print('\\nFilling the missing value (imputasi):')\n",
    "print(retail_raw['quantity'].fillna(retail_raw['quantity'].mean()))\n",
    "\n",
    "# Drop missing value\n",
    "print('\\nDrop missing value:')\n",
    "print(retail_raw['quantity'].dropna())"
   ]
  },
  {
   "cell_type": "code",
   "execution_count": 11,
   "metadata": {
    "scrolled": true
   },
   "outputs": [
    {
     "data": {
      "text/html": [
       "<div>\n",
       "<style scoped>\n",
       "    .dataframe tbody tr th:only-of-type {\n",
       "        vertical-align: middle;\n",
       "    }\n",
       "\n",
       "    .dataframe tbody tr th {\n",
       "        vertical-align: top;\n",
       "    }\n",
       "\n",
       "    .dataframe thead th {\n",
       "        text-align: right;\n",
       "    }\n",
       "</style>\n",
       "<table border=\"1\" class=\"dataframe\">\n",
       "  <thead>\n",
       "    <tr style=\"text-align: right;\">\n",
       "      <th></th>\n",
       "      <th>order_id</th>\n",
       "      <th>order_date</th>\n",
       "      <th>customer_id</th>\n",
       "      <th>city</th>\n",
       "      <th>province</th>\n",
       "      <th>product_id</th>\n",
       "      <th>brand</th>\n",
       "      <th>quantity</th>\n",
       "      <th>item_price</th>\n",
       "    </tr>\n",
       "  </thead>\n",
       "  <tbody>\n",
       "    <tr>\n",
       "      <td>0</td>\n",
       "      <td>1703458</td>\n",
       "      <td>17/10/2019</td>\n",
       "      <td>14004</td>\n",
       "      <td>Jakarta Selatan</td>\n",
       "      <td>DKI Jakarta</td>\n",
       "      <td>P1910</td>\n",
       "      <td>BRAND_J</td>\n",
       "      <td>10.0</td>\n",
       "      <td>740000.0</td>\n",
       "    </tr>\n",
       "    <tr>\n",
       "      <td>1</td>\n",
       "      <td>1706815</td>\n",
       "      <td>24/10/2019</td>\n",
       "      <td>17220</td>\n",
       "      <td>Jakarta Selatan</td>\n",
       "      <td>DKI Jakarta</td>\n",
       "      <td>P2934</td>\n",
       "      <td>BRAND_R</td>\n",
       "      <td>2.0</td>\n",
       "      <td>604000.0</td>\n",
       "    </tr>\n",
       "    <tr>\n",
       "      <td>2</td>\n",
       "      <td>1710718</td>\n",
       "      <td>03/11/2019</td>\n",
       "      <td>16518</td>\n",
       "      <td>Jakarta Utara</td>\n",
       "      <td>DKI Jakarta</td>\n",
       "      <td>P0908</td>\n",
       "      <td>BRAND_C</td>\n",
       "      <td>8.0</td>\n",
       "      <td>1045000.0</td>\n",
       "    </tr>\n",
       "    <tr>\n",
       "      <td>3</td>\n",
       "      <td>1683592</td>\n",
       "      <td>19/08/2019</td>\n",
       "      <td>16364</td>\n",
       "      <td>Jakarta Barat</td>\n",
       "      <td>DKI Jakarta</td>\n",
       "      <td>P0128</td>\n",
       "      <td>BRAND_A</td>\n",
       "      <td>4.0</td>\n",
       "      <td>205000.0</td>\n",
       "    </tr>\n",
       "    <tr>\n",
       "      <td>4</td>\n",
       "      <td>1702573</td>\n",
       "      <td>16/10/2019</td>\n",
       "      <td>15696</td>\n",
       "      <td>Jakarta Timur</td>\n",
       "      <td>DKI Jakarta</td>\n",
       "      <td>P2968</td>\n",
       "      <td>BRAND_R</td>\n",
       "      <td>2.0</td>\n",
       "      <td>NaN</td>\n",
       "    </tr>\n",
       "    <tr>\n",
       "      <td>5</td>\n",
       "      <td>1672906</td>\n",
       "      <td>16/07/2019</td>\n",
       "      <td>12748</td>\n",
       "      <td>Jakarta Utara</td>\n",
       "      <td>DKI Jakarta</td>\n",
       "      <td>P0710</td>\n",
       "      <td>BRAND_C</td>\n",
       "      <td>4.0</td>\n",
       "      <td>520000.0</td>\n",
       "    </tr>\n",
       "    <tr>\n",
       "      <td>6</td>\n",
       "      <td>1711399</td>\n",
       "      <td>04/11/2019</td>\n",
       "      <td>16791</td>\n",
       "      <td>Jakarta Barat</td>\n",
       "      <td>DKI Jakarta</td>\n",
       "      <td>P0860</td>\n",
       "      <td>BRAND_C</td>\n",
       "      <td>1.0</td>\n",
       "      <td>1465000.0</td>\n",
       "    </tr>\n",
       "    <tr>\n",
       "      <td>7</td>\n",
       "      <td>1695367</td>\n",
       "      <td>26/09/2019</td>\n",
       "      <td>13069</td>\n",
       "      <td>Surakarta</td>\n",
       "      <td>Jawa Tengah</td>\n",
       "      <td>P3342</td>\n",
       "      <td>BRAND_S</td>\n",
       "      <td>2.0</td>\n",
       "      <td>205000.0</td>\n",
       "    </tr>\n",
       "    <tr>\n",
       "      <td>8</td>\n",
       "      <td>1741846</td>\n",
       "      <td>30/12/2019</td>\n",
       "      <td>16873</td>\n",
       "      <td>Jakarta Barat</td>\n",
       "      <td>DKI Jakarta</td>\n",
       "      <td>P3203</td>\n",
       "      <td>BRAND_S</td>\n",
       "      <td>32.0</td>\n",
       "      <td>450000.0</td>\n",
       "    </tr>\n",
       "    <tr>\n",
       "      <td>9</td>\n",
       "      <td>1720189</td>\n",
       "      <td>24/11/2019</td>\n",
       "      <td>14723</td>\n",
       "      <td>Tangerang</td>\n",
       "      <td>Banten</td>\n",
       "      <td>P1701</td>\n",
       "      <td>BRAND_H</td>\n",
       "      <td>2.0</td>\n",
       "      <td>149000.0</td>\n",
       "    </tr>\n",
       "    <tr>\n",
       "      <td>10</td>\n",
       "      <td>1683583</td>\n",
       "      <td>19/08/2019</td>\n",
       "      <td>13814</td>\n",
       "      <td>Denpasar</td>\n",
       "      <td>Bali</td>\n",
       "      <td>P2864</td>\n",
       "      <td>BRAND_R</td>\n",
       "      <td>6.0</td>\n",
       "      <td>1045000.0</td>\n",
       "    </tr>\n",
       "    <tr>\n",
       "      <td>11</td>\n",
       "      <td>1693309</td>\n",
       "      <td>19/09/2019</td>\n",
       "      <td>17841</td>\n",
       "      <td>Jakarta Utara</td>\n",
       "      <td>DKI Jakarta</td>\n",
       "      <td>P1798</td>\n",
       "      <td>BRAND_H</td>\n",
       "      <td>1.0</td>\n",
       "      <td>604000.0</td>\n",
       "    </tr>\n",
       "    <tr>\n",
       "      <td>12</td>\n",
       "      <td>1708381</td>\n",
       "      <td>29/10/2019</td>\n",
       "      <td>13895</td>\n",
       "      <td>Tangerang</td>\n",
       "      <td>Banten</td>\n",
       "      <td>P2074</td>\n",
       "      <td>BRAND_L</td>\n",
       "      <td>3.0</td>\n",
       "      <td>2200000.0</td>\n",
       "    </tr>\n",
       "    <tr>\n",
       "      <td>13</td>\n",
       "      <td>1705093</td>\n",
       "      <td>21/10/2019</td>\n",
       "      <td>16999</td>\n",
       "      <td>Jakarta Utara</td>\n",
       "      <td>DKI Jakarta</td>\n",
       "      <td>P2521</td>\n",
       "      <td>BRAND_P</td>\n",
       "      <td>4.0</td>\n",
       "      <td>1745000.0</td>\n",
       "    </tr>\n",
       "    <tr>\n",
       "      <td>14</td>\n",
       "      <td>1734790</td>\n",
       "      <td>18/12/2019</td>\n",
       "      <td>17422</td>\n",
       "      <td>Jakarta Selatan</td>\n",
       "      <td>DKI Jakarta</td>\n",
       "      <td>P0122</td>\n",
       "      <td>BRAND_A</td>\n",
       "      <td>NaN</td>\n",
       "      <td>695000.0</td>\n",
       "    </tr>\n",
       "    <tr>\n",
       "      <td>15</td>\n",
       "      <td>1678960</td>\n",
       "      <td>05/08/2019</td>\n",
       "      <td>14552</td>\n",
       "      <td>Tangerang</td>\n",
       "      <td>Banten</td>\n",
       "      <td>P3482</td>\n",
       "      <td>BRAND_S</td>\n",
       "      <td>1.0</td>\n",
       "      <td>904000.0</td>\n",
       "    </tr>\n",
       "    <tr>\n",
       "      <td>16</td>\n",
       "      <td>1668715</td>\n",
       "      <td>04/07/2019</td>\n",
       "      <td>13397</td>\n",
       "      <td>Surabaya</td>\n",
       "      <td>Jawa Timur</td>\n",
       "      <td>P1902</td>\n",
       "      <td>BRAND_J</td>\n",
       "      <td>10.0</td>\n",
       "      <td>740000.0</td>\n",
       "    </tr>\n",
       "    <tr>\n",
       "      <td>17</td>\n",
       "      <td>1714324</td>\n",
       "      <td>11/11/2019</td>\n",
       "      <td>14096</td>\n",
       "      <td>Surakarta</td>\n",
       "      <td>Jawa Tengah</td>\n",
       "      <td>P2022</td>\n",
       "      <td>BRAND_L</td>\n",
       "      <td>1.0</td>\n",
       "      <td>1748000.0</td>\n",
       "    </tr>\n",
       "    <tr>\n",
       "      <td>18</td>\n",
       "      <td>1669411</td>\n",
       "      <td>07/07/2019</td>\n",
       "      <td>15291</td>\n",
       "      <td>Jakarta Pusat</td>\n",
       "      <td>DKI Jakarta</td>\n",
       "      <td>P0931</td>\n",
       "      <td>BRAND_C</td>\n",
       "      <td>4.0</td>\n",
       "      <td>1395000.0</td>\n",
       "    </tr>\n",
       "    <tr>\n",
       "      <td>19</td>\n",
       "      <td>1731961</td>\n",
       "      <td>13/12/2019</td>\n",
       "      <td>13880</td>\n",
       "      <td>Bogor</td>\n",
       "      <td>Jawa Barat</td>\n",
       "      <td>P2853</td>\n",
       "      <td>BRAND_R</td>\n",
       "      <td>6.0</td>\n",
       "      <td>740000.0</td>\n",
       "    </tr>\n",
       "    <tr>\n",
       "      <td>20</td>\n",
       "      <td>1690672</td>\n",
       "      <td>11/09/2019</td>\n",
       "      <td>15786</td>\n",
       "      <td>Jakarta Selatan</td>\n",
       "      <td>DKI Jakarta</td>\n",
       "      <td>P3273</td>\n",
       "      <td>BRAND_S</td>\n",
       "      <td>12.0</td>\n",
       "      <td>520000.0</td>\n",
       "    </tr>\n",
       "    <tr>\n",
       "      <td>21</td>\n",
       "      <td>1709671</td>\n",
       "      <td>31/10/2019</td>\n",
       "      <td>14738</td>\n",
       "      <td>Bandung</td>\n",
       "      <td>Jawa Barat</td>\n",
       "      <td>P4080</td>\n",
       "      <td>BRAND_W</td>\n",
       "      <td>24.0</td>\n",
       "      <td>113000.0</td>\n",
       "    </tr>\n",
       "    <tr>\n",
       "      <td>22</td>\n",
       "      <td>1670806</td>\n",
       "      <td>10/07/2019</td>\n",
       "      <td>17651</td>\n",
       "      <td>Jakarta Pusat</td>\n",
       "      <td>DKI Jakarta</td>\n",
       "      <td>NaN</td>\n",
       "      <td>BRAND_J</td>\n",
       "      <td>10.0</td>\n",
       "      <td>740000.0</td>\n",
       "    </tr>\n",
       "    <tr>\n",
       "      <td>23</td>\n",
       "      <td>1703659</td>\n",
       "      <td>17/10/2019</td>\n",
       "      <td>12930</td>\n",
       "      <td>Yogyakarta</td>\n",
       "      <td>Yogyakarta</td>\n",
       "      <td>P1741</td>\n",
       "      <td>BRAND_H</td>\n",
       "      <td>6.0</td>\n",
       "      <td>1045000.0</td>\n",
       "    </tr>\n",
       "    <tr>\n",
       "      <td>24</td>\n",
       "      <td>1698916</td>\n",
       "      <td>07/10/2019</td>\n",
       "      <td>14110</td>\n",
       "      <td>Bogor</td>\n",
       "      <td>Jawa Barat</td>\n",
       "      <td>P0817</td>\n",
       "      <td>BRAND_C</td>\n",
       "      <td>12.0</td>\n",
       "      <td>520000.0</td>\n",
       "    </tr>\n",
       "    <tr>\n",
       "      <td>25</td>\n",
       "      <td>1668391</td>\n",
       "      <td>04/07/2019</td>\n",
       "      <td>15738</td>\n",
       "      <td>Jakarta Selatan</td>\n",
       "      <td>DKI Jakarta</td>\n",
       "      <td>P3409</td>\n",
       "      <td>BRAND_S</td>\n",
       "      <td>12.0</td>\n",
       "      <td>310000.0</td>\n",
       "    </tr>\n",
       "    <tr>\n",
       "      <td>26</td>\n",
       "      <td>1702162</td>\n",
       "      <td>15/10/2019</td>\n",
       "      <td>17450</td>\n",
       "      <td>Bogor</td>\n",
       "      <td>Jawa Barat</td>\n",
       "      <td>P3958</td>\n",
       "      <td>BRAND_W</td>\n",
       "      <td>96.0</td>\n",
       "      <td>NaN</td>\n",
       "    </tr>\n",
       "    <tr>\n",
       "      <td>27</td>\n",
       "      <td>1721629</td>\n",
       "      <td>26/11/2019</td>\n",
       "      <td>16360</td>\n",
       "      <td>Bandung</td>\n",
       "      <td>Jawa Barat</td>\n",
       "      <td>P1879</td>\n",
       "      <td>BRAND_J</td>\n",
       "      <td>1.0</td>\n",
       "      <td>219000.0</td>\n",
       "    </tr>\n",
       "    <tr>\n",
       "      <td>28</td>\n",
       "      <td>1718260</td>\n",
       "      <td>19/11/2019</td>\n",
       "      <td>15856</td>\n",
       "      <td>Jakarta Utara</td>\n",
       "      <td>DKI Jakarta</td>\n",
       "      <td>P0456</td>\n",
       "      <td>BRAND_B</td>\n",
       "      <td>10.0</td>\n",
       "      <td>149000.0</td>\n",
       "    </tr>\n",
       "    <tr>\n",
       "      <td>29</td>\n",
       "      <td>1719550</td>\n",
       "      <td>22/11/2019</td>\n",
       "      <td>15028</td>\n",
       "      <td>Jakarta Selatan</td>\n",
       "      <td>DKI Jakarta</td>\n",
       "      <td>P3194</td>\n",
       "      <td>BRAND_S</td>\n",
       "      <td>18.0</td>\n",
       "      <td>1150000.0</td>\n",
       "    </tr>\n",
       "    <tr>\n",
       "      <td>30</td>\n",
       "      <td>1675705</td>\n",
       "      <td>25/07/2019</td>\n",
       "      <td>16316</td>\n",
       "      <td>Jakarta Timur</td>\n",
       "      <td>DKI Jakarta</td>\n",
       "      <td>P2560</td>\n",
       "      <td>BRAND_P</td>\n",
       "      <td>36.0</td>\n",
       "      <td>79000.0</td>\n",
       "    </tr>\n",
       "    <tr>\n",
       "      <td>31</td>\n",
       "      <td>1710385</td>\n",
       "      <td>01/11/2019</td>\n",
       "      <td>13689</td>\n",
       "      <td>Malang</td>\n",
       "      <td>Jawa Timur</td>\n",
       "      <td>P1900</td>\n",
       "      <td>BRAND_J</td>\n",
       "      <td>100.0</td>\n",
       "      <td>639000.0</td>\n",
       "    </tr>\n",
       "    <tr>\n",
       "      <td>32</td>\n",
       "      <td>1705585</td>\n",
       "      <td>22/10/2019</td>\n",
       "      <td>13979</td>\n",
       "      <td>Jakarta Pusat</td>\n",
       "      <td>DKI Jakarta</td>\n",
       "      <td>P3592</td>\n",
       "      <td>BRAND_S</td>\n",
       "      <td>3.0</td>\n",
       "      <td>1745000.0</td>\n",
       "    </tr>\n",
       "    <tr>\n",
       "      <td>33</td>\n",
       "      <td>1689703</td>\n",
       "      <td>09/09/2019</td>\n",
       "      <td>13621</td>\n",
       "      <td>Jakarta Selatan</td>\n",
       "      <td>DKI Jakarta</td>\n",
       "      <td>P2789</td>\n",
       "      <td>BRAND_P</td>\n",
       "      <td>100.0</td>\n",
       "      <td>26000.0</td>\n",
       "    </tr>\n",
       "    <tr>\n",
       "      <td>34</td>\n",
       "      <td>1724590</td>\n",
       "      <td>02/12/2019</td>\n",
       "      <td>15719</td>\n",
       "      <td>Jakarta Barat</td>\n",
       "      <td>DKI Jakarta</td>\n",
       "      <td>P1892</td>\n",
       "      <td>BRAND_J</td>\n",
       "      <td>4.0</td>\n",
       "      <td>740000.0</td>\n",
       "    </tr>\n",
       "    <tr>\n",
       "      <td>35</td>\n",
       "      <td>1741561</td>\n",
       "      <td>29/12/2019</td>\n",
       "      <td>13521</td>\n",
       "      <td>Bandung</td>\n",
       "      <td>Jawa Barat</td>\n",
       "      <td>P3344</td>\n",
       "      <td>BRAND_S</td>\n",
       "      <td>2.0</td>\n",
       "      <td>520000.0</td>\n",
       "    </tr>\n",
       "    <tr>\n",
       "      <td>36</td>\n",
       "      <td>1715014</td>\n",
       "      <td>12/11/2019</td>\n",
       "      <td>16940</td>\n",
       "      <td>Jakarta Timur</td>\n",
       "      <td>DKI Jakarta</td>\n",
       "      <td>P4064</td>\n",
       "      <td>BRAND_W</td>\n",
       "      <td>4.0</td>\n",
       "      <td>303000.0</td>\n",
       "    </tr>\n",
       "    <tr>\n",
       "      <td>37</td>\n",
       "      <td>1697179</td>\n",
       "      <td>01/10/2019</td>\n",
       "      <td>14360</td>\n",
       "      <td>Yogyakarta</td>\n",
       "      <td>Yogyakarta</td>\n",
       "      <td>P2977</td>\n",
       "      <td>BRAND_R</td>\n",
       "      <td>4.0</td>\n",
       "      <td>1325000.0</td>\n",
       "    </tr>\n",
       "    <tr>\n",
       "      <td>38</td>\n",
       "      <td>1735633</td>\n",
       "      <td>19/12/2019</td>\n",
       "      <td>17096</td>\n",
       "      <td>Jakarta Selatan</td>\n",
       "      <td>DKI Jakarta</td>\n",
       "      <td>P3285</td>\n",
       "      <td>BRAND_S</td>\n",
       "      <td>4.0</td>\n",
       "      <td>1325000.0</td>\n",
       "    </tr>\n",
       "    <tr>\n",
       "      <td>39</td>\n",
       "      <td>1714633</td>\n",
       "      <td>11/11/2019</td>\n",
       "      <td>17757</td>\n",
       "      <td>Tangerang</td>\n",
       "      <td>Banten</td>\n",
       "      <td>P0491</td>\n",
       "      <td>BRAND_B</td>\n",
       "      <td>3.0</td>\n",
       "      <td>450000.0</td>\n",
       "    </tr>\n",
       "    <tr>\n",
       "      <td>40</td>\n",
       "      <td>1714369</td>\n",
       "      <td>11/11/2019</td>\n",
       "      <td>16729</td>\n",
       "      <td>Jakarta Utara</td>\n",
       "      <td>DKI Jakarta</td>\n",
       "      <td>P2102</td>\n",
       "      <td>BRAND_L</td>\n",
       "      <td>10.0</td>\n",
       "      <td>590000.0</td>\n",
       "    </tr>\n",
       "    <tr>\n",
       "      <td>41</td>\n",
       "      <td>1683103</td>\n",
       "      <td>18/08/2019</td>\n",
       "      <td>15506</td>\n",
       "      <td>Jakarta Pusat</td>\n",
       "      <td>DKI Jakarta</td>\n",
       "      <td>P2411</td>\n",
       "      <td>BRAND_P</td>\n",
       "      <td>1.0</td>\n",
       "      <td>113000.0</td>\n",
       "    </tr>\n",
       "    <tr>\n",
       "      <td>42</td>\n",
       "      <td>1688833</td>\n",
       "      <td>05/09/2019</td>\n",
       "      <td>13985</td>\n",
       "      <td>Bekasi</td>\n",
       "      <td>Jawa Barat</td>\n",
       "      <td>P3588</td>\n",
       "      <td>BRAND_S</td>\n",
       "      <td>12.0</td>\n",
       "      <td>695000.0</td>\n",
       "    </tr>\n",
       "    <tr>\n",
       "      <td>43</td>\n",
       "      <td>1716136</td>\n",
       "      <td>14/11/2019</td>\n",
       "      <td>14527</td>\n",
       "      <td>Depok</td>\n",
       "      <td>Jawa Barat</td>\n",
       "      <td>P2598</td>\n",
       "      <td>BRAND_P</td>\n",
       "      <td>3.0</td>\n",
       "      <td>695000.0</td>\n",
       "    </tr>\n",
       "    <tr>\n",
       "      <td>44</td>\n",
       "      <td>1719328</td>\n",
       "      <td>21/11/2019</td>\n",
       "      <td>15144</td>\n",
       "      <td>Jakarta Barat</td>\n",
       "      <td>DKI Jakarta</td>\n",
       "      <td>P1802</td>\n",
       "      <td>BRAND_H</td>\n",
       "      <td>8.0</td>\n",
       "      <td>1745000.0</td>\n",
       "    </tr>\n",
       "    <tr>\n",
       "      <td>45</td>\n",
       "      <td>1705150</td>\n",
       "      <td>22/10/2019</td>\n",
       "      <td>13514</td>\n",
       "      <td>Surabaya</td>\n",
       "      <td>Jawa Timur</td>\n",
       "      <td>P4075</td>\n",
       "      <td>BRAND_W</td>\n",
       "      <td>12.0</td>\n",
       "      <td>1045000.0</td>\n",
       "    </tr>\n",
       "    <tr>\n",
       "      <td>46</td>\n",
       "      <td>1725274</td>\n",
       "      <td>03/12/2019</td>\n",
       "      <td>17160</td>\n",
       "      <td>Jakarta Utara</td>\n",
       "      <td>DKI Jakarta</td>\n",
       "      <td>P3045</td>\n",
       "      <td>BRAND_R</td>\n",
       "      <td>12.0</td>\n",
       "      <td>450000.0</td>\n",
       "    </tr>\n",
       "    <tr>\n",
       "      <td>47</td>\n",
       "      <td>1707076</td>\n",
       "      <td>25/10/2019</td>\n",
       "      <td>18041</td>\n",
       "      <td>Bekasi</td>\n",
       "      <td>Jawa Barat</td>\n",
       "      <td>P1772</td>\n",
       "      <td>BRAND_H</td>\n",
       "      <td>1.0</td>\n",
       "      <td>240000.0</td>\n",
       "    </tr>\n",
       "    <tr>\n",
       "      <td>48</td>\n",
       "      <td>1729846</td>\n",
       "      <td>10/12/2019</td>\n",
       "      <td>17231</td>\n",
       "      <td>Bekasi</td>\n",
       "      <td>Jawa Barat</td>\n",
       "      <td>P3537</td>\n",
       "      <td>BRAND_S</td>\n",
       "      <td>2.0</td>\n",
       "      <td>1745000.0</td>\n",
       "    </tr>\n",
       "    <tr>\n",
       "      <td>49</td>\n",
       "      <td>1668991</td>\n",
       "      <td>05/07/2019</td>\n",
       "      <td>17797</td>\n",
       "      <td>Jakarta Selatan</td>\n",
       "      <td>DKI Jakarta</td>\n",
       "      <td>P1983</td>\n",
       "      <td>BRAND_L</td>\n",
       "      <td>1.0</td>\n",
       "      <td>2900000.0</td>\n",
       "    </tr>\n",
       "  </tbody>\n",
       "</table>\n",
       "</div>"
      ],
      "text/plain": [
       "    order_id  order_date  customer_id             city     province  \\\n",
       "0    1703458  17/10/2019        14004  Jakarta Selatan  DKI Jakarta   \n",
       "1    1706815  24/10/2019        17220  Jakarta Selatan  DKI Jakarta   \n",
       "2    1710718  03/11/2019        16518    Jakarta Utara  DKI Jakarta   \n",
       "3    1683592  19/08/2019        16364    Jakarta Barat  DKI Jakarta   \n",
       "4    1702573  16/10/2019        15696    Jakarta Timur  DKI Jakarta   \n",
       "5    1672906  16/07/2019        12748    Jakarta Utara  DKI Jakarta   \n",
       "6    1711399  04/11/2019        16791    Jakarta Barat  DKI Jakarta   \n",
       "7    1695367  26/09/2019        13069        Surakarta  Jawa Tengah   \n",
       "8    1741846  30/12/2019        16873    Jakarta Barat  DKI Jakarta   \n",
       "9    1720189  24/11/2019        14723        Tangerang       Banten   \n",
       "10   1683583  19/08/2019        13814         Denpasar         Bali   \n",
       "11   1693309  19/09/2019        17841    Jakarta Utara  DKI Jakarta   \n",
       "12   1708381  29/10/2019        13895        Tangerang       Banten   \n",
       "13   1705093  21/10/2019        16999    Jakarta Utara  DKI Jakarta   \n",
       "14   1734790  18/12/2019        17422  Jakarta Selatan  DKI Jakarta   \n",
       "15   1678960  05/08/2019        14552        Tangerang       Banten   \n",
       "16   1668715  04/07/2019        13397         Surabaya   Jawa Timur   \n",
       "17   1714324  11/11/2019        14096        Surakarta  Jawa Tengah   \n",
       "18   1669411  07/07/2019        15291    Jakarta Pusat  DKI Jakarta   \n",
       "19   1731961  13/12/2019        13880            Bogor   Jawa Barat   \n",
       "20   1690672  11/09/2019        15786  Jakarta Selatan  DKI Jakarta   \n",
       "21   1709671  31/10/2019        14738          Bandung   Jawa Barat   \n",
       "22   1670806  10/07/2019        17651    Jakarta Pusat  DKI Jakarta   \n",
       "23   1703659  17/10/2019        12930       Yogyakarta   Yogyakarta   \n",
       "24   1698916  07/10/2019        14110            Bogor   Jawa Barat   \n",
       "25   1668391  04/07/2019        15738  Jakarta Selatan  DKI Jakarta   \n",
       "26   1702162  15/10/2019        17450            Bogor   Jawa Barat   \n",
       "27   1721629  26/11/2019        16360          Bandung   Jawa Barat   \n",
       "28   1718260  19/11/2019        15856    Jakarta Utara  DKI Jakarta   \n",
       "29   1719550  22/11/2019        15028  Jakarta Selatan  DKI Jakarta   \n",
       "30   1675705  25/07/2019        16316    Jakarta Timur  DKI Jakarta   \n",
       "31   1710385  01/11/2019        13689           Malang   Jawa Timur   \n",
       "32   1705585  22/10/2019        13979    Jakarta Pusat  DKI Jakarta   \n",
       "33   1689703  09/09/2019        13621  Jakarta Selatan  DKI Jakarta   \n",
       "34   1724590  02/12/2019        15719    Jakarta Barat  DKI Jakarta   \n",
       "35   1741561  29/12/2019        13521          Bandung   Jawa Barat   \n",
       "36   1715014  12/11/2019        16940    Jakarta Timur  DKI Jakarta   \n",
       "37   1697179  01/10/2019        14360       Yogyakarta   Yogyakarta   \n",
       "38   1735633  19/12/2019        17096  Jakarta Selatan  DKI Jakarta   \n",
       "39   1714633  11/11/2019        17757        Tangerang       Banten   \n",
       "40   1714369  11/11/2019        16729    Jakarta Utara  DKI Jakarta   \n",
       "41   1683103  18/08/2019        15506    Jakarta Pusat  DKI Jakarta   \n",
       "42   1688833  05/09/2019        13985           Bekasi   Jawa Barat   \n",
       "43   1716136  14/11/2019        14527            Depok   Jawa Barat   \n",
       "44   1719328  21/11/2019        15144    Jakarta Barat  DKI Jakarta   \n",
       "45   1705150  22/10/2019        13514         Surabaya   Jawa Timur   \n",
       "46   1725274  03/12/2019        17160    Jakarta Utara  DKI Jakarta   \n",
       "47   1707076  25/10/2019        18041           Bekasi   Jawa Barat   \n",
       "48   1729846  10/12/2019        17231           Bekasi   Jawa Barat   \n",
       "49   1668991  05/07/2019        17797  Jakarta Selatan  DKI Jakarta   \n",
       "\n",
       "   product_id    brand  quantity  item_price  \n",
       "0       P1910  BRAND_J      10.0    740000.0  \n",
       "1       P2934  BRAND_R       2.0    604000.0  \n",
       "2       P0908  BRAND_C       8.0   1045000.0  \n",
       "3       P0128  BRAND_A       4.0    205000.0  \n",
       "4       P2968  BRAND_R       2.0         NaN  \n",
       "5       P0710  BRAND_C       4.0    520000.0  \n",
       "6       P0860  BRAND_C       1.0   1465000.0  \n",
       "7       P3342  BRAND_S       2.0    205000.0  \n",
       "8       P3203  BRAND_S      32.0    450000.0  \n",
       "9       P1701  BRAND_H       2.0    149000.0  \n",
       "10      P2864  BRAND_R       6.0   1045000.0  \n",
       "11      P1798  BRAND_H       1.0    604000.0  \n",
       "12      P2074  BRAND_L       3.0   2200000.0  \n",
       "13      P2521  BRAND_P       4.0   1745000.0  \n",
       "14      P0122  BRAND_A       NaN    695000.0  \n",
       "15      P3482  BRAND_S       1.0    904000.0  \n",
       "16      P1902  BRAND_J      10.0    740000.0  \n",
       "17      P2022  BRAND_L       1.0   1748000.0  \n",
       "18      P0931  BRAND_C       4.0   1395000.0  \n",
       "19      P2853  BRAND_R       6.0    740000.0  \n",
       "20      P3273  BRAND_S      12.0    520000.0  \n",
       "21      P4080  BRAND_W      24.0    113000.0  \n",
       "22        NaN  BRAND_J      10.0    740000.0  \n",
       "23      P1741  BRAND_H       6.0   1045000.0  \n",
       "24      P0817  BRAND_C      12.0    520000.0  \n",
       "25      P3409  BRAND_S      12.0    310000.0  \n",
       "26      P3958  BRAND_W      96.0         NaN  \n",
       "27      P1879  BRAND_J       1.0    219000.0  \n",
       "28      P0456  BRAND_B      10.0    149000.0  \n",
       "29      P3194  BRAND_S      18.0   1150000.0  \n",
       "30      P2560  BRAND_P      36.0     79000.0  \n",
       "31      P1900  BRAND_J     100.0    639000.0  \n",
       "32      P3592  BRAND_S       3.0   1745000.0  \n",
       "33      P2789  BRAND_P     100.0     26000.0  \n",
       "34      P1892  BRAND_J       4.0    740000.0  \n",
       "35      P3344  BRAND_S       2.0    520000.0  \n",
       "36      P4064  BRAND_W       4.0    303000.0  \n",
       "37      P2977  BRAND_R       4.0   1325000.0  \n",
       "38      P3285  BRAND_S       4.0   1325000.0  \n",
       "39      P0491  BRAND_B       3.0    450000.0  \n",
       "40      P2102  BRAND_L      10.0    590000.0  \n",
       "41      P2411  BRAND_P       1.0    113000.0  \n",
       "42      P3588  BRAND_S      12.0    695000.0  \n",
       "43      P2598  BRAND_P       3.0    695000.0  \n",
       "44      P1802  BRAND_H       8.0   1745000.0  \n",
       "45      P4075  BRAND_W      12.0   1045000.0  \n",
       "46      P3045  BRAND_R      12.0    450000.0  \n",
       "47      P1772  BRAND_H       1.0    240000.0  \n",
       "48      P3537  BRAND_S       2.0   1745000.0  \n",
       "49      P1983  BRAND_L       1.0   2900000.0  "
      ]
     },
     "execution_count": 11,
     "metadata": {},
     "output_type": "execute_result"
    }
   ],
   "source": [
    "retail_raw[:50] \n",
    "# masih terdapat missing value karna kode diatas hanya memperlihatkan bahwa missing value sudah diatasi,\n",
    "# namun tidak di inplace(digantikan)"
   ]
  },
  {
   "cell_type": "markdown",
   "metadata": {},
   "source": [
    "#### Tugas Praktek\n",
    "Bagaimana, Aksara? Sudah dicoba dari modul yang saya kasih?” sapa Kroma. Kulihat ia baru keluar dari ruang meeting. Sedikit terkejut karena Kroma langsung menyapa dan menanyai prosesku, aku butuh beberapa detik sebelum menjawab.\n",
    "“Sudah, sejauh ini paham sih. apalagi tiap subbab ada latihan singkatnya, banyak banget lagi! Cuma sedikit kendala saja soal missing value,” ujarku. Missing value memang bagian yang paling membuat penasaran karena sedari tadi aku berkutat dengan persoalan ini.\n",
    "“Oke, bagus kalau memang lancar. Bisa temui saya di ruangan kalau dibutuhkan ya, Aksara.”\n",
    "Aku mengangguk mantap. Aku tak mungkin bertanya pada Kroma dan memintanya mengajariku soal letak missing value-ku. Dan, tidak enak rasanya kalau merepotkan Senja lagi. Aku harus bisa mengandalkan diriku sendiri kali ini. Aku pun mengutak-atik dataku kembali selama hampir setengah jam dan menemukan jika missing value aku ada pada kolom item_price.\n",
    "“Ah, akhirnya!” Dengan cepat aku melengkapi missing value tersebut dengan mean dari item_price. Berikut caraya:\n"
   ]
  },
  {
   "cell_type": "code",
   "execution_count": 12,
   "metadata": {
    "scrolled": true
   },
   "outputs": [
    {
     "name": "stdout",
     "output_type": "stream",
     "text": [
      "0       7.400000e+05\n",
      "1       6.040000e+05\n",
      "2       1.045000e+06\n",
      "3       2.050000e+05\n",
      "4       9.337427e+05\n",
      "            ...     \n",
      "4995    4.500000e+05\n",
      "4996    1.465000e+06\n",
      "4997    7.470000e+05\n",
      "4998    6.950000e+05\n",
      "4999    1.045000e+06\n",
      "Name: item_price, Length: 5000, dtype: float64\n"
     ]
    }
   ],
   "source": [
    "print(retail_raw['item_price'].fillna(retail_raw['item_price'].mean())) \n",
    "# pada kolom 'item_price' yang bernilai kosong diganti dengan nilai rata - rata kolom"
   ]
  },
  {
   "attachments": {
    "image.png": {
     "image/png": "[encoded data removed]"
    }
   },
   "cell_type": "markdown",
   "metadata": {},
   "source": [
    "## Outliers\n",
    "Outliers merupakan data observasi yang muncul dengan nilai-nilai ekstrim. Yang dimaksud dengan nilai-nilai ekstrim dalam observasi adalah nilai yang jauh atau beda sama sekali dengan sebagian besar nilai lain dalam kelompoknya.\n",
    " \n",
    "Cara treatment terhadap outliers antara lain:\n",
    "1.\tRemove the outliers (dibuang)\n",
    "2.\tFilling the missing value (imputasi)\n",
    "3.\tCapping\n",
    "4.\tPrediction\n",
    " \n",
    "Pada umumnya, outliers dapat ditentukan dengan metric IQR (interquartile range).\n",
    "Rumus dasar dari IQR: Q3 - Q1, dan data suatu observasi dapat dikatakan outliers jika memenuhi kedua syarat dibawah ini:\n",
    ">•\t< Q1 - 1.5 * IQR\n",
    "\n",
    ">•\t> Q3 + 1.5 * IQR\n",
    "\n",
    "Syntax di Python:\n",
    "![image.png](attachment:image.png) "
   ]
  },
  {
   "attachments": {
    "image.png": {
     "image/png": "[encoded data removed]"
    }
   },
   "cell_type": "markdown",
   "metadata": {},
   "source": [
    "Kemudian untuk membuang outliersnya:\n",
    " ![image.png](attachment:image.png)"
   ]
  },
  {
   "cell_type": "code",
   "execution_count": 13,
   "metadata": {},
   "outputs": [
    {
     "name": "stdout",
     "output_type": "stream",
     "text": [
      "Shape awal:  (5000, 9)\n",
      "Shape akhir:  (4699, 9)\n"
     ]
    }
   ],
   "source": [
    "# Q1, Q3, dan IQR\n",
    "Q1 = retail_raw['quantity'].quantile(0.25)\n",
    "Q3 = retail_raw['quantity'].quantile(0.75)\n",
    "IQR = Q3 - Q1\n",
    "\n",
    "# Check ukuran (baris dan kolom) sebelum data yang outliers dibuang\n",
    "print('Shape awal: ', retail_raw.shape)\n",
    "\n",
    "# Removing outliers\n",
    "retail_raw = retail_raw[~((retail_raw['quantity'] < (Q1 - 1.5 * IQR)) | (retail_raw['quantity'] > (Q3 + 1.5 * IQR)))]\n",
    "\n",
    "# Check ukuran (baris dan kolom) setelah data yang outliers dibuang\n",
    "print('Shape akhir: ', retail_raw.shape)"
   ]
  },
  {
   "cell_type": "markdown",
   "metadata": {},
   "source": [
    "#### Tugas Praktek\n",
    "Setelah berhasil mengatasi missing value tadi, aku memutuskan untuk mencoba menemukan sejumlah outliers menggunakan IQR. Dengan begitu, aku bisa mengetahui berapa IQR dari variabel item_price. "
   ]
  },
  {
   "cell_type": "code",
   "execution_count": 14,
   "metadata": {},
   "outputs": [
    {
     "name": "stdout",
     "output_type": "stream",
     "text": [
      "Shape awal:  (4699, 9)\n",
      "Shape akhir:  (4379, 9)\n"
     ]
    }
   ],
   "source": [
    "# Q1, Q3, dan IQR\n",
    "Q1 = retail_raw['item_price'].quantile(0.25)\n",
    "Q3 = retail_raw['item_price'].quantile(0.75)\n",
    "IQR = Q3 - Q1\n",
    "\n",
    "# Check ukuran (baris dan kolom) sebelum data yang outliers dibuang\n",
    "print('Shape awal: ', retail_raw.shape)\n",
    "\n",
    "# Removing outliers\n",
    "retail_raw = retail_raw[~((retail_raw['item_price'] < (Q1 - 1.5 * IQR)) | (retail_raw['item_price'] > (Q3 + 1.5 * IQR)))]\n",
    "\n",
    "# Check ukuran (baris dan kolom) setelah data yang outliers dibuang\n",
    "print('Shape akhir: ', retail_raw.shape)\n"
   ]
  },
  {
   "attachments": {
    "image.png": {
     "image/png": "[encoded data removed]"
    }
   },
   "cell_type": "markdown",
   "metadata": {},
   "source": [
    "## Deduplikasi Data\n",
    "Duplikasi data merupakan data dengan kondisi pada row-row tertentu memiliki kesamaan data di seluruh kolomnya. Tentunya ada data yang duplikat dalam dataset yang dimiliki. Kondisi duplikasi harus diatasi dengan jalan mengeliminir baris yang mengalami duplikasi, sehingga proses ini dikenal dengan deduplikasi.\n",
    "Untuk mencek duplikasi data:\n",
    " ![image.png](attachment:image.png)"
   ]
  },
  {
   "attachments": {
    "image.png": {
     "image/png": "[encoded data removed]"
    }
   },
   "cell_type": "markdown",
   "metadata": {},
   "source": [
    "Syntax untuk membuang duplikasi:\n",
    " ![image.png](attachment:image.png)"
   ]
  },
  {
   "cell_type": "markdown",
   "metadata": {},
   "source": [
    "#### Tugas Praktek\n",
    "Terakhir lagi menuju selesai! Aku tinggal membuang duplikasi data dari dataset review_raw."
   ]
  },
  {
   "cell_type": "code",
   "execution_count": 15,
   "metadata": {},
   "outputs": [
    {
     "name": "stdout",
     "output_type": "stream",
     "text": [
      "Shape awal:  (4379, 9)\n",
      "Shape akhir:  (4373, 9)\n"
     ]
    }
   ],
   "source": [
    "# Check ukuran (baris dan kolom) sebelum data duplikasi dibuang\n",
    "print('Shape awal: ', retail_raw.shape)\n",
    "\n",
    "# Buang data yang terduplikasi\n",
    "retail_raw.drop_duplicates(inplace=True)\n",
    "\n",
    "# Check ukuran (baris dan kolom) setelah data duplikasi dibuang\n",
    "print('Shape akhir: ', retail_raw.shape)"
   ]
  },
  {
   "cell_type": "markdown",
   "metadata": {},
   "source": [
    "## Case Studi: Data Profiling - Part 1\n",
    "Dear Aksara, \n",
    "Tolong proses dataset terlampir yang  disimpan dalam bentuk csv bernama 'uncleaned_raw.csv'.\n",
    "Kamu bisa memprosesnya dengan cara berikut:\n",
    "1.\tImport dataset csv ke variable bernama uncleaned_raw\n",
    "2.\tInspeksi dataframe uncleaned_raw\n",
    "3.\tCheck kolom yang mengandung missing value, jika ada, kolom apakah itu dan berapa persen missing value pada kolom tersebut?\n",
    "4.\tMengisi missing value tersebut dengan mean dari kolom tersebut!\n",
    "5.\tMengetahui kolom yang memiliki outliers! Gunakan visualisasi dengan boxplot pada dataframe uncleaned_raw.\n",
    "Setelah membaca email tersebut, aku pun memulai kode programnya di code editor."
   ]
  },
  {
   "cell_type": "code",
   "execution_count": 20,
   "metadata": {},
   "outputs": [
    {
     "data": {
      "text/html": [
       "<div>\n",
       "<style scoped>\n",
       "    .dataframe tbody tr th:only-of-type {\n",
       "        vertical-align: middle;\n",
       "    }\n",
       "\n",
       "    .dataframe tbody tr th {\n",
       "        vertical-align: top;\n",
       "    }\n",
       "\n",
       "    .dataframe thead th {\n",
       "        text-align: right;\n",
       "    }\n",
       "</style>\n",
       "<table border=\"1\" class=\"dataframe\">\n",
       "  <thead>\n",
       "    <tr style=\"text-align: right;\">\n",
       "      <th></th>\n",
       "      <th>InvoiceNo</th>\n",
       "      <th>Description</th>\n",
       "      <th>Quantity</th>\n",
       "      <th>InvoiceDate</th>\n",
       "      <th>UnitPrice</th>\n",
       "      <th>CustomerID</th>\n",
       "      <th>City</th>\n",
       "    </tr>\n",
       "  </thead>\n",
       "  <tbody>\n",
       "    <tr>\n",
       "      <td>0</td>\n",
       "      <td>536365</td>\n",
       "      <td>WHITE HANGING HEART T-LIGHT HOLDER</td>\n",
       "      <td>6.0</td>\n",
       "      <td>12/01/10 08.26</td>\n",
       "      <td>29000</td>\n",
       "      <td>17850</td>\n",
       "      <td>Surabaya</td>\n",
       "    </tr>\n",
       "    <tr>\n",
       "      <td>1</td>\n",
       "      <td>536366</td>\n",
       "      <td>WHITE METAL LANTERN</td>\n",
       "      <td>6.0</td>\n",
       "      <td>12/01/10 08.26</td>\n",
       "      <td>41000</td>\n",
       "      <td>17850</td>\n",
       "      <td>Surabaya</td>\n",
       "    </tr>\n",
       "    <tr>\n",
       "      <td>2</td>\n",
       "      <td>536367</td>\n",
       "      <td>CREAM CUPID HEARTS COAT HANGER</td>\n",
       "      <td>8.0</td>\n",
       "      <td>12/01/10 08.26</td>\n",
       "      <td>18000</td>\n",
       "      <td>17850</td>\n",
       "      <td>Surabaya</td>\n",
       "    </tr>\n",
       "    <tr>\n",
       "      <td>3</td>\n",
       "      <td>536368</td>\n",
       "      <td>KNITTED UNION FLAG HOT WATER BOTTLE</td>\n",
       "      <td>6.0</td>\n",
       "      <td>12/01/10 08.26</td>\n",
       "      <td>38000</td>\n",
       "      <td>17850</td>\n",
       "      <td>Jakarta</td>\n",
       "    </tr>\n",
       "    <tr>\n",
       "      <td>4</td>\n",
       "      <td>536369</td>\n",
       "      <td>RED WOOLLY HOTTIE WHITE HEART.</td>\n",
       "      <td>6.0</td>\n",
       "      <td>12/01/10 08.26</td>\n",
       "      <td>27000</td>\n",
       "      <td>17850</td>\n",
       "      <td>Medan</td>\n",
       "    </tr>\n",
       "  </tbody>\n",
       "</table>\n",
       "</div>"
      ],
      "text/plain": [
       "   InvoiceNo                          Description  Quantity     InvoiceDate  \\\n",
       "0     536365   WHITE HANGING HEART T-LIGHT HOLDER       6.0  12/01/10 08.26   \n",
       "1     536366                  WHITE METAL LANTERN       6.0  12/01/10 08.26   \n",
       "2     536367       CREAM CUPID HEARTS COAT HANGER       8.0  12/01/10 08.26   \n",
       "3     536368  KNITTED UNION FLAG HOT WATER BOTTLE       6.0  12/01/10 08.26   \n",
       "4     536369       RED WOOLLY HOTTIE WHITE HEART.       6.0  12/01/10 08.26   \n",
       "\n",
       "   UnitPrice  CustomerID      City  \n",
       "0      29000       17850  Surabaya  \n",
       "1      41000       17850  Surabaya  \n",
       "2      18000       17850  Surabaya  \n",
       "3      38000       17850   Jakarta  \n",
       "4      27000       17850     Medan  "
      ]
     },
     "execution_count": 20,
     "metadata": {},
     "output_type": "execute_result"
    }
   ],
   "source": [
    "import pandas as pd\n",
    "uncleaned_raw = pd.read_csv('data/uncleaned_raw.csv')\n",
    "uncleaned_raw.head()"
   ]
  },
  {
   "cell_type": "code",
   "execution_count": 21,
   "metadata": {},
   "outputs": [
    {
     "data": {
      "text/plain": [
       "(505, 7)"
      ]
     },
     "execution_count": 21,
     "metadata": {},
     "output_type": "execute_result"
    }
   ],
   "source": [
    "uncleaned_raw.shape"
   ]
  },
  {
   "cell_type": "code",
   "execution_count": 17,
   "metadata": {},
   "outputs": [
    {
     "name": "stdout",
     "output_type": "stream",
     "text": [
      "Lima data teratas:\n",
      "   InvoiceNo                          Description  Quantity     InvoiceDate  \\\n",
      "0     536365   WHITE HANGING HEART T-LIGHT HOLDER       6.0  12/01/10 08.26   \n",
      "1     536366                  WHITE METAL LANTERN       6.0  12/01/10 08.26   \n",
      "2     536367       CREAM CUPID HEARTS COAT HANGER       8.0  12/01/10 08.26   \n",
      "3     536368  KNITTED UNION FLAG HOT WATER BOTTLE       6.0  12/01/10 08.26   \n",
      "4     536369       RED WOOLLY HOTTIE WHITE HEART.       6.0  12/01/10 08.26   \n",
      "\n",
      "   UnitPrice  CustomerID      City  \n",
      "0      29000       17850  Surabaya  \n",
      "1      41000       17850  Surabaya  \n",
      "2      18000       17850  Surabaya  \n",
      "3      38000       17850   Jakarta  \n",
      "4      27000       17850     Medan  \n",
      "\n",
      "Kolom dengan missing value:\n",
      "InvoiceNo      False\n",
      "Description    False\n",
      "Quantity        True\n",
      "InvoiceDate    False\n",
      "UnitPrice      False\n",
      "CustomerID     False\n",
      "City           False\n",
      "dtype: bool\n",
      "Persentase missing value kolom Quantity: 4.0%\n"
     ]
    }
   ],
   "source": [
    "# Baca dataset uncleaned_raw.csv\n",
    "uncleaned_raw = pd.read_csv('data/uncleaned_raw.csv')\n",
    "\n",
    "#inspeksi dataframe uncleaned_raw\n",
    "print('Lima data teratas:') \n",
    "print(uncleaned_raw.head())\n",
    "\n",
    "#Check kolom yang mengandung missing value\n",
    "print('\\nKolom dengan missing value:') \n",
    "print(uncleaned_raw.isnull().any())\n",
    "\n",
    "#Persentase missing value\n",
    "length_qty = len(uncleaned_raw['Quantity'])\n",
    "count_qty = uncleaned_raw['Quantity'].count()\n",
    "\n",
    "#mengurangi length dengan count\n",
    "number_of_missing_values_qty = length_qty - count_qty\n",
    "\n",
    "#mengubah ke bentuk float\n",
    "float_of_missing_values_qty = float(number_of_missing_values_qty / length_qty) \n",
    "\n",
    "#mengubah ke dalam bentuk persen\n",
    "pct_of_missing_values_qty = '{0:.1f}%'.format(float_of_missing_values_qty*100) \n",
    "\n",
    "#print hasil percent dari missing value\n",
    "print('Persentase missing value kolom Quantity:', pct_of_missing_values_qty)\n",
    "\n",
    "#Mengisi missing value tersebut dengan mean dari kolom tersebut\n",
    "uncleaned_raw['Quantity'] = uncleaned_raw['Quantity'].fillna(uncleaned_raw['Quantity'].mean())\n"
   ]
  },
  {
   "cell_type": "code",
   "execution_count": 18,
   "metadata": {},
   "outputs": [
    {
     "data": {
      "image/png": "[encoded data removed]",
      "text/plain": [
       "<Figure size 432x288 with 1 Axes>"
      ]
     },
     "metadata": {
      "needs_background": "light"
     },
     "output_type": "display_data"
    }
   ],
   "source": [
    "import matplotlib.pyplot as plt\n",
    "%matplotlib inline\n",
    "\n",
    "#Mengetahui kolom yang memiliki outliers!\n",
    "uncleaned_raw.boxplot()\n",
    "plt.show()"
   ]
  },
  {
   "cell_type": "markdown",
   "metadata": {},
   "source": [
    "## Case Study: Data Cleansing - Part 2\n",
    "Langkah selanjutnya bisa dilakukan dengan cara berikut:\n",
    "6.\tMelakukan proses removing outliers pada kolom UnitPrice.\n",
    "7.\tChecking duplikasi and melakukan deduplikasi dataset tersebut!\n"
   ]
  },
  {
   "cell_type": "code",
   "execution_count": 19,
   "metadata": {},
   "outputs": [
    {
     "name": "stdout",
     "output_type": "stream",
     "text": [
      "0      False\n",
      "1      False\n",
      "2      False\n",
      "3      False\n",
      "4      False\n",
      "       ...  \n",
      "500     True\n",
      "501     True\n",
      "502     True\n",
      "503     True\n",
      "504     True\n",
      "Length: 505, dtype: bool\n"
     ]
    }
   ],
   "source": [
    "#Check IQR\n",
    "Q1 = uncleaned_raw['UnitPrice'].quantile(0.25)\n",
    "Q3 = uncleaned_raw['UnitPrice'].quantile(0.75)\n",
    "IQR = Q3 - Q1\n",
    "\n",
    "#removing outliers\n",
    "uncleaned_raw = uncleaned_raw[~((uncleaned_raw[['UnitPrice']] < (Q1 - 1.5 * IQR)) | (uncleaned_raw[['UnitPrice']] > (Q3 + 1.5 * IQR)))]\n",
    "\n",
    "#check for duplication\n",
    "print(uncleaned_raw.duplicated(subset=None))\n",
    "\n",
    "#remove duplication\n",
    "uncleaned_raw = uncleaned_raw.drop_duplicates()\n"
   ]
  },
  {
   "cell_type": "code",
   "execution_count": null,
   "metadata": {},
   "outputs": [],
   "source": []
  }
 ],
 "metadata": {
  "kernelspec": {
   "display_name": "Python 3",
   "language": "python",
   "name": "python3"
  },
  "language_info": {
   "codemirror_mode": {
    "name": "ipython",
    "version": 3
   },
   "file_extension": ".py",
   "mimetype": "text/x-python",
   "name": "python",
   "nbconvert_exporter": "python",
   "pygments_lexer": "ipython3",
   "version": "3.7.4"
  }
 },
 "nbformat": 4,
 "nbformat_minor": 2
}
